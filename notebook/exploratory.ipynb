{
 "cells": [
  {
   "cell_type": "code",
   "execution_count": 4,
   "id": "e29fc2e9",
   "metadata": {},
   "outputs": [],
   "source": [
    "import netCDF4 as nc"
   ]
  },
  {
   "cell_type": "code",
   "execution_count": 6,
   "id": "7acd3dc3",
   "metadata": {},
   "outputs": [],
   "source": [
    "fn = '../data/BedMachineAntarctica_2020-07-15_v02.nc'\n",
    "ds = nc.Dataset(fn)"
   ]
  },
  {
   "cell_type": "code",
   "execution_count": 8,
   "id": "dacab303",
   "metadata": {},
   "outputs": [
    {
     "name": "stdout",
     "output_type": "stream",
     "text": [
      "<class 'netCDF4._netCDF4.Variable'>\n",
      "|S1 mapping()\n",
      "    grid_mapping_name: polar_stereographic\n",
      "    latitude_of_projection_origin: -90.0\n",
      "    standard_parallel: -71.0\n",
      "    straight_vertical_longitude_from_pole: 0.0\n",
      "    semi_major_axis: 6378273.0\n",
      "    inverse_flattening: 298.2794050428205\n",
      "    false_easting: 0.0\n",
      "    false_northing: 0.0\n",
      "unlimited dimensions: \n",
      "current shape = ()\n",
      "filling on, default _FillValue of \u0000 used\n",
      "<class 'netCDF4._netCDF4.Variable'>\n",
      "int32 x(x)\n",
      "    long_name: Cartesian x-coordinate\n",
      "    standard_name: projection_x_coordinate\n",
      "    units: meter\n",
      "unlimited dimensions: \n",
      "current shape = (13333,)\n",
      "filling on, default _FillValue of -2147483647 used\n",
      "<class 'netCDF4._netCDF4.Variable'>\n",
      "int32 y(y)\n",
      "    long_name: Cartesian y-coordinate\n",
      "    standard_name: projection_y_coordinate\n",
      "    units: meter\n",
      "unlimited dimensions: \n",
      "current shape = (13333,)\n",
      "filling on, default _FillValue of -2147483647 used\n",
      "<class 'netCDF4._netCDF4.Variable'>\n",
      "int8 mask(y, x)\n",
      "    long_name: mask\n",
      "    grid_mapping: mapping\n",
      "    valid_range: [0 4]\n",
      "    flag_values: [0 1 2 3 4]\n",
      "    flag_meanings: ocean ice_free_land grounded_ice floating_ice lake_vostok\n",
      "    source: Antarctic Digital Database (rock outcrop) and Jeremie Mouginot (pers. comm., grounding lines)\n",
      "unlimited dimensions: \n",
      "current shape = (13333, 13333)\n",
      "filling on, default _FillValue of -127 ignored\n",
      "<class 'netCDF4._netCDF4.Variable'>\n",
      "float32 firn(y, x)\n",
      "    long_name: firn air content\n",
      "    units: meters\n",
      "    grid_mapping: mapping\n",
      "    source: FAC model from Ligtenberg et al., 2011, forced by RACMO2.3p2 (van Wessem et al., 2018)\n",
      "unlimited dimensions: \n",
      "current shape = (13333, 13333)\n",
      "filling on, default _FillValue of 9.969209968386869e+36 used\n",
      "<class 'netCDF4._netCDF4.Variable'>\n",
      "float32 surface(y, x)\n",
      "    long_name: ice surface elevation\n",
      "    standard_name: surface_altitude\n",
      "    units: meters\n",
      "    grid_mapping: mapping\n",
      "    source: REMA (Byrd Polar and Climate Research Center and the Polar Geospatial Center)\n",
      "unlimited dimensions: \n",
      "current shape = (13333, 13333)\n",
      "filling on, default _FillValue of 9.969209968386869e+36 used\n",
      "<class 'netCDF4._netCDF4.Variable'>\n",
      "float32 thickness(y, x)\n",
      "    long_name: ice thickness\n",
      "    standard_name: land_ice_thickness\n",
      "    units: meters\n",
      "    grid_mapping: mapping\n",
      "    source: Mathieu Morlighem\n",
      "unlimited dimensions: \n",
      "current shape = (13333, 13333)\n",
      "filling on, default _FillValue of 9.969209968386869e+36 used\n",
      "<class 'netCDF4._netCDF4.Variable'>\n",
      "float32 bed(y, x)\n",
      "    long_name: bed topography\n",
      "    standard_name: bedrock_altitude\n",
      "    units: meters\n",
      "    grid_mapping: mapping\n",
      "    source: IBCSO and Mathieu Morlighem\n",
      "    _FillValue: -9999.0\n",
      "unlimited dimensions: \n",
      "current shape = (13333, 13333)\n",
      "filling on\n",
      "<class 'netCDF4._netCDF4.Variable'>\n",
      "int16 errbed(y, x)\n",
      "    long_name: bed topography/ice thickness error\n",
      "    units: meters\n",
      "    grid_mapping: mapping\n",
      "    source: Mathieu Morlighem\n",
      "    _FillValue: -9999\n",
      "unlimited dimensions: \n",
      "current shape = (13333, 13333)\n",
      "filling on\n",
      "<class 'netCDF4._netCDF4.Variable'>\n",
      "int8 source(y, x)\n",
      "    long_name: data source\n",
      "    grid_mapping: mapping\n",
      "    valid_range: [ 1 10]\n",
      "    flag_values: [ 1  2  3  4  5  6  7 10]\n",
      "    flag_meanings: REMA_IBCSO mass_conservation interpolation hydrostatic streamline_diffusion gravity seismic multibeam\n",
      "    source: Mathieu Morlighem\n",
      "unlimited dimensions: \n",
      "current shape = (13333, 13333)\n",
      "filling on, default _FillValue of -127 ignored\n",
      "<class 'netCDF4._netCDF4.Variable'>\n",
      "int16 geoid(y, x)\n",
      "    long_name: EIGEN-EC4 Geoid - WGS84 Ellipsoid difference\n",
      "    standard_name: geoid_height_above_reference_ellipsoid\n",
      "    units: meters\n",
      "    grid_mapping: mapping\n",
      "    geoid: eigen-6c4 (Forste et al 2014)\n",
      "unlimited dimensions: \n",
      "current shape = (13333, 13333)\n",
      "filling on, default _FillValue of -32767 used\n"
     ]
    }
   ],
   "source": [
    "for var in ds.variables.values():\n",
    "    print(var)"
   ]
  }
 ],
 "metadata": {
  "kernelspec": {
   "display_name": "Python 3 (ipykernel)",
   "language": "python",
   "name": "python3"
  },
  "language_info": {
   "codemirror_mode": {
    "name": "ipython",
    "version": 3
   },
   "file_extension": ".py",
   "mimetype": "text/x-python",
   "name": "python",
   "nbconvert_exporter": "python",
   "pygments_lexer": "ipython3",
   "version": "3.8.10"
  },
  "varInspector": {
   "cols": {
    "lenName": 16,
    "lenType": 16,
    "lenVar": 40
   },
   "kernels_config": {
    "python": {
     "delete_cmd_postfix": "",
     "delete_cmd_prefix": "del ",
     "library": "var_list.py",
     "varRefreshCmd": "print(var_dic_list())"
    },
    "r": {
     "delete_cmd_postfix": ") ",
     "delete_cmd_prefix": "rm(",
     "library": "var_list.r",
     "varRefreshCmd": "cat(var_dic_list()) "
    }
   },
   "types_to_exclude": [
    "module",
    "function",
    "builtin_function_or_method",
    "instance",
    "_Feature"
   ],
   "window_display": false
  }
 },
 "nbformat": 4,
 "nbformat_minor": 5
}
